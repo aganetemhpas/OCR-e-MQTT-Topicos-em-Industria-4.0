{
  "cells": [
    {
      "cell_type": "code",
      "execution_count": null,
      "metadata": {
        "collapsed": true,
        "id": "kePO6e0dpGJs"
      },
      "outputs": [],
      "source": [
        "!pip install easyocr\n",
        "!pip install imutils\n",
        "!pip install paho-mqtt"
      ]
    },
    {
      "cell_type": "markdown",
      "metadata": {
        "id": "1AJ6QALKpGJp"
      },
      "source": [
        "## Importação de Bibliotecas"
      ]
    },
    {
      "cell_type": "code",
      "execution_count": 98,
      "metadata": {
        "id": "FIMElUXdpGJu"
      },
      "outputs": [],
      "source": [
        "import cv2\n",
        "from matplotlib import pyplot as plt\n",
        "import numpy as np\n",
        "import imutils\n",
        "import easyocr\n",
        "from paho.mqtt import client as mqtt_client\n",
        "from random import randint\n",
        "import time\n",
        "import json\n"
      ]
    },
    {
      "cell_type": "markdown",
      "source": [
        "## Criação da Base de Dados para Tratamento"
      ],
      "metadata": {
        "id": "1dtDXdK7DR82"
      }
    },
    {
      "cell_type": "code",
      "source": [
        "dataBase = ['image1.jpg', 'image2.jpg', 'image3.jpg', 'image4.jpg']"
      ],
      "metadata": {
        "id": "rE1z3tNNwFTD"
      },
      "execution_count": 44,
      "outputs": []
    },
    {
      "cell_type": "code",
      "source": [
        "def leituraPlaca(a):\n",
        "  img = cv2.imread(a)\n",
        "  gray = cv2.cvtColor(img, cv2.COLOR_BGR2GRAY)\n",
        "  #plt.imshow(cv2.cvtColor(gray, cv2.COLOR_BGR2RGB))\n",
        "\n",
        "  bfilter = cv2.bilateralFilter(gray, 11, 17, 17) #Noise reduction\n",
        "  edged = cv2.Canny(bfilter, 30, 200) #Edge detection\n",
        "  #plt.imshow(cv2.cvtColor(edged, cv2.COLOR_BGR2RGB))\n",
        "\n",
        "  keypoints = cv2.findContours(edged.copy(), cv2.RETR_TREE, cv2.CHAIN_APPROX_SIMPLE)\n",
        "  contours = imutils.grab_contours(keypoints)\n",
        "  contours = sorted(contours, key=cv2.contourArea, reverse=True)[:10]\n",
        "\n",
        "  location = None\n",
        "  for contour in contours:\n",
        "      approx = cv2.approxPolyDP(contour, 10, True)\n",
        "      if len(approx) == 4:\n",
        "          location = approx\n",
        "          break\n",
        "\n",
        "\n",
        "  location\n",
        "\n",
        "  mask = np.zeros(gray.shape, np.uint8)\n",
        "  new_image = cv2.drawContours(mask, [location], 0,255, -1)\n",
        "  new_image = cv2.bitwise_and(img, img, mask=mask)\n",
        "\n",
        "  #plt.imshow(cv2.cvtColor(new_image, cv2.COLOR_BGR2RGB))\n",
        "\n",
        "  (x,y) = np.where(mask==255)\n",
        "  (x1, y1) = (np.min(x), np.min(y))\n",
        "  (x2, y2) = (np.max(x), np.max(y))\n",
        "  cropped_image = gray[x1:x2+1, y1:y2+1]\n",
        "\n",
        "  #plt.imshow(cv2.cvtColor(cropped_image, cv2.COLOR_BGR2RGB))\n",
        "\n",
        "  reader = easyocr.Reader(['en'])\n",
        "  result = reader.readtext(cropped_image)\n",
        "  result\n",
        "\n",
        "  text = result[0][-2]\n",
        "  font = cv2.FONT_HERSHEY_SIMPLEX\n",
        "  res = cv2.putText(img, text=text, org=(approx[0][0][0], approx[1][0][1]+60), fontFace=font, fontScale=1, color=(0,255,0), thickness=2, lineType=cv2.LINE_AA)\n",
        "  res = cv2.rectangle(img, tuple(approx[0][0]), tuple(approx[2][0]), (0,255,0),3)\n",
        "  #plt.imshow(cv2.cvtColor(res, cv2.COLOR_BGR2RGB))\n",
        "\n",
        "  return text"
      ],
      "metadata": {
        "id": "SmOORCHQwcZB"
      },
      "execution_count": 91,
      "outputs": []
    },
    {
      "cell_type": "code",
      "source": [
        "conjuntoPlacas = []"
      ],
      "metadata": {
        "id": "Td_bvQbNyhyF"
      },
      "execution_count": 88,
      "outputs": []
    },
    {
      "cell_type": "code",
      "source": [
        "for i in range(len(dataBase)):\n",
        "  placa = leituraPlaca(dataBase[i])\n",
        "  conjuntoPlacas.append(placa)"
      ],
      "metadata": {
        "id": "JNRtOhj-0zGM"
      },
      "execution_count": null,
      "outputs": []
    },
    {
      "cell_type": "code",
      "source": [
        "conjuntoPlacas"
      ],
      "metadata": {
        "id": "07DPJDZU-Nxp"
      },
      "execution_count": null,
      "outputs": []
    },
    {
      "cell_type": "code",
      "source": [
        "broker = 'broker.hivemq.com'\n",
        "port = 1883\n",
        "topic = \"api/request\"\n",
        "# generate client ID with pub prefix randomly\n",
        "client_id = 'ID'+str(randint(0,1000))\n",
        "#username = 'your username'\n",
        "#password = 'your password'\n",
        "deviceId = 'D1'+str(randint(0,1000))\n",
        "\n",
        "def connect_mqtt():\n",
        "    def on_connect(client, userdata, flags, rc):\n",
        "        if rc==0:\n",
        "            print(\"Conectado ao MQTT broker\")\n",
        "        else:\n",
        "            print(\"Falha ao conectar, codigo de erro: %d\", rc)\n",
        " \n",
        " \n",
        "    client = mqtt_client.Client(client_id)\n",
        "    #client.username_pw_set(username, password)\n",
        "    client.on_connect = on_connect\n",
        "    client.connect(broker, port)\n",
        "    return client\n",
        " \n",
        "def publish(client):\n",
        "    for k in range(len(dataBase)):\n",
        "      placa = conjuntoPlacas[k]\n",
        "      vaga = str(k)\n",
        "\n",
        "      msg = \"{\\\"action\\\":\\\"notification/insert\\\",\\\"deviceId\\\":\\\"\"+deviceId+\"\\\",\\\"notification\\\":{\\\"notification\\\": \\\"placas\\\",\\\"parameters\\\":{\\\"placa\\\":\" + placa + \",\\\"vaga\\\":\" + vaga + \"}}}\"\n",
        "      result = client.publish(topic,msg)\n",
        "      msg_status = result[0]\n",
        "      if msg_status ==0:\n",
        "          print(f\"Mensagem : {msg} enviada para o topico {topic}\")\n",
        "      else:\n",
        "          print(f\"Falha ao enviar a mensagem para o topico {topic}\")\n",
        " \n",
        "\n",
        "def main():\n",
        "    client = connect_mqtt()\n",
        "    client.loop_start()\n",
        "    publish(client)\n",
        "    #contagem = 0\n",
        "    #while contagem < len(dataBase):\n",
        "        #publish(client)\n",
        "        #time.sleep(2)\n",
        "        #contagem += 1\n",
        "    \n",
        "\n",
        "if __name__ == '__main__':\n",
        "    main()"
      ],
      "metadata": {
        "colab": {
          "base_uri": "https://localhost:8080/"
        },
        "id": "VKzcjNtI1DEm",
        "outputId": "96ef182e-8666-4f71-ed2c-0a603fc172e0"
      },
      "execution_count": 103,
      "outputs": [
        {
          "output_type": "stream",
          "name": "stdout",
          "text": [
            "Mensagem : {\"action\":\"notification/insert\",\"deviceId\":\"D1625\",\"notification\":{\"notification\": \"placas\",\"parameters\":{\"placa\":HR.26 BR.9044,\"vaga\":0}}} enviada para o topico api/request\n",
            "Mensagem : {\"action\":\"notification/insert\",\"deviceId\":\"D1625\",\"notification\":{\"notification\": \"placas\",\"parameters\":{\"placa\":ICOVIDT9,\"vaga\":1}}} enviada para o topico api/request\n",
            "Mensagem : {\"action\":\"notification/insert\",\"deviceId\":\"D1625\",\"notification\":{\"notification\": \"placas\",\"parameters\":{\"placa\":EBJY. 982],\"vaga\":2}}} enviada para o topico api/request\n",
            "Mensagem : {\"action\":\"notification/insert\",\"deviceId\":\"D1625\",\"notification\":{\"notification\": \"placas\",\"parameters\":{\"placa\":H982 FKL,\"vaga\":3}}} enviada para o topico api/request\n"
          ]
        }
      ]
    }
  ],
  "metadata": {
    "kernelspec": {
      "display_name": "Python 3",
      "language": "python",
      "name": "python3"
    },
    "language_info": {
      "codemirror_mode": {
        "name": "ipython",
        "version": 3
      },
      "file_extension": ".py",
      "mimetype": "text/x-python",
      "name": "python",
      "nbconvert_exporter": "python",
      "pygments_lexer": "ipython3",
      "version": "3.7.3"
    },
    "colab": {
      "provenance": []
    }
  },
  "nbformat": 4,
  "nbformat_minor": 0
}